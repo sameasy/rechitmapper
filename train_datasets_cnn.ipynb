{
 "cells": [
  {
   "cell_type": "code",
   "execution_count": null,
   "metadata": {},
   "outputs": [],
   "source": [
    "import pandas as pd\n",
    "import numpy as np\n",
    "import matplotlib.pyplot as plt\n",
    "import keras\n",
    "from keras.models import Sequential\n",
    "from keras.layers import Dense\n",
    "from keras.layers import Dropout\n",
    "from keras.layers import Flatten\n",
    "from keras.layers.convolutional import Conv2D\n",
    "from keras.layers.convolutional import MaxPooling2D\n",
    "from keras.utils.np_utils import to_categorical\n",
    "from keras.utils import plot_model\n",
    "from keras import regularizers\n",
    "from sklearn.metrics import roc_curve, auc"
   ]
  },
  {
   "cell_type": "code",
   "execution_count": null,
   "metadata": {},
   "outputs": [],
   "source": [
    "pho = np.load('photon.npy')\n",
    "#hal = np.load('beamhalo.npy')\n",
    "hal = np.load('photon.npy')\n",
    "print (\"photon dataset shape:\",pho.shape[0])\n",
    "print (\"halo dataset shape:\",hal.shape[0])\n",
    "#nstrain = min(pho.shape[0],hal.shape[0])\n",
    "nstrain = 2515\n",
    "print (\"samples from each dataset:\",nstrain)"
   ]
  },
  {
   "cell_type": "code",
   "execution_count": null,
   "metadata": {},
   "outputs": [],
   "source": [
    "\n",
    "X_train = np.vstack((pho[:nstrain,:,:],hal[:nstrain,:,:]))\n",
    "Y_train = np.vstack((keras.utils.to_categorical(np.ones(nstrain),2)  , keras.utils.to_categorical(np.zeros(nstrain),2)))\n",
    "\n",
    "print (X_train.shape)\n",
    "print (Y_train.shape)\n",
    "print Y_train"
   ]
  },
  {
   "cell_type": "code",
   "execution_count": null,
   "metadata": {},
   "outputs": [],
   "source": [
    "X_train=X_train.reshape(X_train.shape[0],11,11,1)\n",
    "print \"creating model=========>\"\n",
    "model = Sequential()\n",
    "model.add(Conv2D(30, (3, 3),strides=(1, 1), padding=\"valid\", activation=\"relu\", input_shape=(11,11,1),kernel_regularizer=regularizers.l2(0.01) ))\n",
    "#model.add(MaxPooling2D(pool_size=(2, 2)))\n",
    "model.add(Conv2D(15, (3, 3), activation='relu'))\n",
    "model.add(MaxPooling2D(pool_size=(2, 2)))\n",
    "model.add(Dropout(0.2))\n",
    "model.add(Flatten())\n",
    "model.add(Dense(50, activation='relu',kernel_regularizer=regularizers.l2(0.01)))\n",
    "model.add(Dense(10, activation='relu'))\n",
    "model.add(Dense(Y_train.shape[1], activation='softmax'))\n",
    "\n",
    "#ADAM = keras.optimizers.Adam(lr=500.005)\n",
    "# Compile model\n",
    "print \"compilation up next=======>\"\n",
    "model.compile(loss='categorical_crossentropy',optimizer='adam',metrics=['binary_accuracy'])\n",
    "#model.compile(loss='categorical_crossentropy',optimizer='ADAM',metrics=['binary_accuracy'])\n",
    "model.summary()\n",
    "#plot_model(model, to_file='modelCNN.png',show_shapes=True,show_layer_names=True)\n",
    "#fitting\n",
    "print \"fitting now=========>\"\n",
    "history = model.fit(X_train,Y_train , batch_size=20, epochs=200, shuffle=True, validation_split=0.2, verbose=1)"
   ]
  },
  {
   "cell_type": "code",
   "execution_count": null,
   "metadata": {},
   "outputs": [],
   "source": [
    "print(history.history.keys())\n",
    "# summarize history for accuracy\n",
    "plt.plot(history.history['binary_accuracy'])\n",
    "plt.plot(history.history['val_binary_accuracy'])\n",
    "plt.title('model accuracy')\n",
    "plt.ylabel('accuracy')\n",
    "plt.xlabel('epoch')\n",
    "plt.legend(['train', 'validation'], loc='upper left')\n",
    "plt.show()\n",
    "# summarize history for loss\n",
    "plt.plot(history.history['loss'])\n",
    "plt.plot(history.history['val_loss'])\n",
    "plt.title('model loss')\n",
    "plt.ylabel('loss')\n",
    "plt.xlabel('epoch')\n",
    "plt.legend(['train', 'validatoin'], loc='upper left')\n",
    "plt.show()"
   ]
  },
  {
   "cell_type": "code",
   "execution_count": null,
   "metadata": {},
   "outputs": [],
   "source": []
  }
 ],
 "metadata": {
  "kernelspec": {
   "display_name": "Python 3",
   "language": "python",
   "name": "python3"
  },
  "language_info": {
   "codemirror_mode": {
    "name": "ipython",
    "version": 3
   },
   "file_extension": ".py",
   "mimetype": "text/x-python",
   "name": "python",
   "nbconvert_exporter": "python",
   "pygments_lexer": "ipython3",
   "version": "3.6.5"
  }
 },
 "nbformat": 4,
 "nbformat_minor": 2
}
